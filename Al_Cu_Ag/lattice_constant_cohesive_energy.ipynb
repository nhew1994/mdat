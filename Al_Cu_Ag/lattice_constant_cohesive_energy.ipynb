{
 "cells": [
  {
   "cell_type": "markdown",
   "metadata": {},
   "source": [
    "# Calculate lattice constant and cohesive energy"
   ]
  },
  {
   "cell_type": "markdown",
   "metadata": {},
   "source": [
    "## Write the Input File"
   ]
  },
  {
   "cell_type": "code",
   "execution_count": 46,
   "metadata": {},
   "outputs": [
    {
     "name": "stdout",
     "output_type": "stream",
     "text": [
      "Overwriting lat_const_coh_en.in\n"
     ]
    }
   ],
   "source": [
    "%%writefile lat_const_coh_en.in\n",
    "# LAMMPS INPUT SCRIPT\n",
    "# Calculate the lattice constant and cohesive energy of an fcc structure\n",
    "\n",
    "# INITIALIZATION\n",
    "clear \n",
    "units metal \n",
    "dimension 3 \n",
    "boundary p p p \n",
    "atom_style atomic \n",
    "atom_modify map array\n",
    "variable element string \"Cu\" # change this to the desired element\n",
    "log log_${element}.lammps # Changes the log file name\n",
    "\n",
    "# ATOM DEFINITION\n",
    "lattice fcc 4.079 orient x 1 0 0 orient y 0 1 0 orient z 0 0 1  \n",
    "region box block 0 1 0 1 0 1 units lattice\n",
    "create_box 1 box\n",
    "create_atoms 1 box\n",
    "replicate 1 1 1\n",
    "\n",
    "# DEFINE INTERATOMIC POTENTIAL\n",
    "pair_style eam/alloy \n",
    "pair_coeff * * CuAgAuNiPdPtAlPbFeMoTaWMgCoTiZr_Zhou04.eam.alloy.txt ${element}\n",
    "neighbor 2.0 bin \n",
    "neigh_modify delay 10 check yes \n",
    " \n",
    "# DEFINE COMPUTES \n",
    "compute eng all pe/atom \n",
    "compute eatoms all reduce sum c_eng \n",
    "\n",
    "# MINIMIZATION\n",
    "reset_timestep 0 \n",
    "fix 1 all box/relax iso 0.0 vmax 0.001\n",
    "thermo 10 \n",
    "thermo_style custom step pe lx ly lz press c_eatoms \n",
    "min_style cg \n",
    "minimize 1e-25 1e-25 5000 10000 \n",
    "\n",
    "variable natoms equal \"count(all)\" \n",
    "variable teng equal \"c_eatoms\"\n",
    "variable length equal \"lx\"\n",
    "variable ecoh equal \"v_teng/v_natoms\"\n",
    "\n",
    "print \"Total energy (eV) = ${teng};\"\n",
    "print \"Number of atoms = ${natoms};\"\n",
    "print \"Lattice constant (Angstoms) = ${length};\"\n",
    "print \"Cohesive energy (eV) = ${ecoh};\"\n",
    "\n",
    "# OUTPUT THE FINAL RELAXED STRUCTURE\n",
    "write_data relaxed_${element}.data\n",
    "\n",
    "print \"All done!\""
   ]
  },
  {
   "cell_type": "markdown",
   "metadata": {},
   "source": [
    "## Run LAMMPS"
   ]
  },
  {
   "cell_type": "code",
   "execution_count": 47,
   "metadata": {},
   "outputs": [
    {
     "name": "stdout",
     "output_type": "stream",
     "text": [
      "LAMMPS (29 Aug 2024 - Development - 2995cb76ae)\n",
      "OMP_NUM_THREADS environment is not set. Defaulting to 1 thread. (src/comm.cpp:98)\n",
      "  using 1 OpenMP thread(s) per MPI task\n",
      "OMP_NUM_THREADS environment is not set. Defaulting to 1 thread. (src/comm.cpp:98)\n",
      "  using 1 OpenMP thread(s) per MPI task\n",
      "Lattice spacing in x,y,z = 4.079 4.079 4.079\n",
      "Created orthogonal box = (0 0 0) to (4.079 4.079 4.079)\n",
      "  1 by 1 by 1 MPI processor grid\n",
      "Created 4 atoms\n",
      "  using lattice units in orthogonal box = (0 0 0) to (4.079 4.079 4.079)\n",
      "  create_atoms CPU = 0.001 seconds\n",
      "Replication is creating a 1x1x1 = 1 times larger system...\n",
      "  orthogonal box = (0 0 0) to (4.079 4.079 4.079)\n",
      "  1 by 1 by 1 MPI processor grid\n",
      "  4 atoms\n",
      "  replicate CPU = 0.001 seconds\n",
      "Reading eam/alloy potential file CuAgAuNiPdPtAlPbFeMoTaWMgCoTiZr_Zhou04.eam.alloy.txt with DATE: 2018-03-30\n",
      "Switching to 'neigh_modify every 1 delay 0 check yes' setting during minimization\n",
      "Neighbor list info ...\n",
      "  update: every = 1 steps, delay = 0 steps, check = yes\n",
      "  max neighbors/atom: 2000, page size: 100000\n",
      "  master list distance cutoff = 9.8256185\n",
      "  ghost atom cutoff = 9.8256185\n",
      "  binsize = 4.9128093, bins = 1 1 1\n",
      "  1 neighbor lists, perpetual/occasional/extra = 1 0 0\n",
      "  (1) pair eam/alloy, perpetual\n",
      "      attributes: half, newton on\n",
      "      pair build: half/bin/atomonly/newton\n",
      "      stencil: half/bin/3d\n",
      "      bin: standard\n",
      "Setting up cg style minimization ...\n",
      "  Unit style    : metal\n",
      "  Current step  : 0\n",
      "WARNING: Energy due to 1 extra global DOFs will be included in minimizer energies\n",
      " (src/min.cpp:219)\n",
      "Per MPI rank memory allocation (min/avg/max) = 4.495 | 4.495 | 4.495 Mbytes\n",
      "   Step         PotEng           Lx             Ly             Lz           Press         c_eatoms   \n",
      "         0  -12.287704      4.079          4.079          4.079         -215872.88     -12.287704    \n",
      "        10  -12.555241      4.03821        4.03821        4.03821       -209114.67     -12.555241    \n",
      "        20  -12.808032      3.99742        3.99742        3.99742       -200621.66     -12.808032    \n",
      "        30  -13.04441       3.95663        3.95663        3.95663       -190400.03     -13.04441     \n",
      "        40  -13.262892      3.91584        3.91584        3.91584       -178543.04     -13.262892    \n",
      "        50  -13.462248      3.87505        3.87505        3.87505       -165180.3      -13.462248    \n",
      "        60  -13.641452      3.83426        3.83426        3.83426       -150321.06     -13.641452    \n",
      "        70  -13.799388      3.79347        3.79347        3.79347       -133552.15     -13.799388    \n",
      "        80  -13.934185      3.75268        3.75268        3.75268       -113634        -13.934185    \n",
      "        90  -14.042264      3.71189        3.71189        3.71189       -88401.845     -14.042264    \n",
      "       100  -14.118444      3.6711         3.6711         3.6711        -56659.846     -14.118444    \n",
      "       110  -14.156729      3.63031        3.63031        3.63031       -17029.656     -14.156729    \n",
      "       120  -14.15998       3.6149601      3.6149601      3.6149601      6.5698017e-10 -14.15998     \n",
      "Loop time of 0.00378844 on 1 procs for 120 steps with 4 atoms\n",
      "\n",
      "72.8% CPU use with 1 MPI tasks x 1 OpenMP threads\n",
      "\n",
      "Minimization stats:\n",
      "  Stopping criterion = energy tolerance\n",
      "  Energy initial, next-to-last, final = \n",
      "     -12.2877044603691  -14.1599799288545  -14.1599799288545\n",
      "  Force two-norm initial, final = 27.432797 6.5576758e-14\n",
      "  Force max component initial, final = 27.432797 6.5572824e-14\n",
      "  Final line search alpha, max atom move = 1 6.5572824e-14\n",
      "  Iterations, force evaluations = 120 127\n",
      "\n",
      "MPI task timing breakdown:\n",
      "Section |  min time  |  avg time  |  max time  |%varavg| %total\n",
      "---------------------------------------------------------------\n",
      "Pair    | 0.002138   | 0.002138   | 0.002138   |   0.0 | 56.43\n",
      "Neigh   | 0          | 0          | 0          |   0.0 |  0.00\n",
      "Comm    | 0.00029606 | 0.00029606 | 0.00029606 |   0.0 |  7.81\n",
      "Output  | 0.00039921 | 0.00039921 | 0.00039921 |   0.0 | 10.54\n",
      "Modify  | 0          | 0          | 0          |   0.0 |  0.00\n",
      "Other   |            | 0.0009552  |            |       | 25.21\n",
      "\n",
      "Nlocal:              4 ave           4 max           4 min\n",
      "Histogram: 1 0 0 0 0 0 0 0 0 0\n",
      "Nghost:            662 ave         662 max         662 min\n",
      "Histogram: 1 0 0 0 0 0 0 0 0 0\n",
      "Neighs:            448 ave         448 max         448 min\n",
      "Histogram: 1 0 0 0 0 0 0 0 0 0\n",
      "\n",
      "Total # of neighbors = 448\n",
      "Ave neighs/atom = 112\n",
      "Neighbor list builds = 0\n",
      "Dangerous builds = 0\n",
      "Total energy (eV) = -14.1599799288545;\n",
      "Number of atoms = 4;\n",
      "Lattice constant (Angstoms) = 3.61496012307914;\n",
      "Cohesive energy (eV) = -3.53999498221363;\n",
      "System init for write_data ...\n",
      "All done!\n",
      "Total wall time: 0:00:00\n"
     ]
    }
   ],
   "source": [
    "!lmp < lat_const_coh_en.in"
   ]
  },
  {
   "cell_type": "code",
   "execution_count": 48,
   "metadata": {},
   "outputs": [],
   "source": [
    "# Move the log lammps files and relaxed structure files to a folder called relaxed_structures\n",
    "!mkdir -p relaxed_structures\n",
    "!mv log_*.lammps relaxed_*.data relaxed_structures\n"
   ]
  }
 ],
 "metadata": {
  "kernelspec": {
   "display_name": "Python 3",
   "language": "python",
   "name": "python3"
  },
  "language_info": {
   "codemirror_mode": {
    "name": "ipython",
    "version": 3
   },
   "file_extension": ".py",
   "mimetype": "text/x-python",
   "name": "python",
   "nbconvert_exporter": "python",
   "pygments_lexer": "ipython3",
   "version": "3.10.12"
  }
 },
 "nbformat": 4,
 "nbformat_minor": 2
}
