{
 "cells": [
  {
   "cell_type": "code",
   "execution_count": 15,
   "metadata": {},
   "outputs": [
    {
     "name": "stdout",
     "output_type": "stream",
     "text": [
      "Overwriting in.langevin\n"
     ]
    }
   ],
   "source": [
    "%%writefile in.langevin\n",
    "# Sample LAMMPS input script for thermal conductivity of a metal: thermostatting 2 regions via fix langevin\n",
    "\n",
    "# INITIALIZATION\n",
    "variable        x equal 10\n",
    "variable        y equal 10\n",
    "variable        z equal 20\n",
    "\n",
    "variable        T_low equal 200\n",
    "variable        T_high equal 400\n",
    "variable        T equal 300                 # Midway between T_low and T_high\n",
    "variable        P equal 0.0\n",
    "\n",
    "units           metal\n",
    "dimension       3\n",
    "boundary        p p p\n",
    "atom_style      atomic\n",
    "variable        element string \"Al\"         # Change this to the desired element\n",
    "\n",
    "lattice fcc     4.05 orient x 1 0 0 orient y 0 1 0 orient z 0 0 1 \n",
    "region          box block 0 $x 0 $y 0 $z units lattice\n",
    "create_box      1 box\n",
    "create_atoms    1 box\n",
    "                \n",
    "region          hot_region block INF INF INF INF 0 1 units lattice\n",
    "region          cold_region block  INF INF INF INF 10 11 units lattice\n",
    "compute         T_hot all temp/region hot_region\n",
    "compute         T_cold all temp/region cold_region\n",
    "\n",
    "# INTERATOMIC POTENTIAL\n",
    "pair_style      eam/alloy \n",
    "pair_coeff      * * CuAgAuNiPdPtAlPbFeMoTaWMgCoTiZr_Zhou04.eam.alloy.txt ${element}\n",
    "\n",
    "# EQUILIBRATION 1 - Equilibrate the system with a single temperature, T, and pressure, P\n",
    "timestep        0.001\n",
    "velocity        all create $T 87287\n",
    "fix             1 all npt temp $T $T $(100.0*dt) iso $P $P $(1000.0*dt)\n",
    "thermo          1000\n",
    "\n",
    "shell if [ -d equil_1 ]; then rm -rf equil_1; fi\n",
    "shell mkdir equil_1\n",
    "\n",
    "dump            1 all custom 1000 equil_1/dump.equil_*.cfg id mass type x y z\n",
    "run             20000\n",
    "\n",
    "unfix           1\n",
    "undump          1\n",
    "\n",
    "# EQUILIBRATION 2 - Equilibrate the hot and cold regions\n",
    "reset_timestep  0\n",
    "\n",
    "fix             1 all nve\n",
    "\n",
    "# tally will keep track of energy changes in the hot and cold regions\n",
    "fix             hot_langevin all langevin ${T_high} ${T_high} $(100.0*dt) 59804 tally yes\n",
    "fix_modify      hot_langevin temp T_hot\n",
    "\n",
    "fix             cold_langevin all langevin ${T_low} ${T_low} $(100.0*dt) 287859 tally yes\n",
    "fix_modify      cold_langevin temp T_cold\n",
    "\n",
    "variable        step equal step\n",
    "variable        tdiff equal c_T_hot-c_T_cold\n",
    "\n",
    "thermo_style    custom step temp c_T_hot c_T_cold f_hot_langevin f_cold_langevin v_tdiff\n",
    "thermo_modify   colname c_T_hot Temp_hot colname c_T_cold Temp_cold &\n",
    "                colname f_hot_langevin E_hot colname f_cold_langevin E_cold &\n",
    "                colname v_tdiff dTemp_step\n",
    "thermo          1000\n",
    "\n",
    "shell if [ -d equil_2 ]; then rm -rf equil_2; fi\n",
    "shell mkdir equil_2\n",
    "dump            2 all custom 1000 equil_2/dump.equil_*.cfg id mass type x y z\n",
    "\n",
    "run             20000\n",
    "\n",
    "undump          2\n",
    "\n",
    "# THERMAL CONDUCTIVITY - Calculate the thermal conductivity previous equilibration\n",
    "reset_timestep  0\n",
    "\n",
    "# Every atom has an average kinetic energy of ⁠3/2 kB(eV/K) T(K) in thermal equilibrium.\n",
    "compute         ke all ke/atom\n",
    "variable        temp atom c_ke/1.5/8.61733326e-5\n",
    "\n",
    "fix             1 all nve\n",
    "\n",
    "# Reset langevin thermostats to zero energy accumulation\n",
    "fix             hot_langevin all langevin ${T_high} ${T_high} $(100.0*dt) 59804 tally yes\n",
    "fix_modify      hot_langevin temp T_hot\n",
    "\n",
    "fix             cold_langevin all langevin ${T_low} ${T_low} $(100.0*dt) 287859 tally yes\n",
    "fix_modify      cold_langevin temp T_cold\n",
    "\n",
    "# Calculates the running average of the temperature difference between the hot and cold regions\n",
    "# Input values every 10 steps. Running average is updated every 1000 steps, updated using the latest 100 samples.\n",
    "fix             print_tdiff all print 10 \"${step} ${tdiff}\" file tdiff_values.dat screen no\n",
    "fix             ave all ave/time 10 100 1000 v_tdiff ave running file ave_tdiff.dat   \n",
    "\n",
    "thermo          1000\n",
    "thermo_style    custom step temp c_T_hot c_T_cold f_hot_langevin f_cold_langevin v_tdiff f_ave\n",
    "thermo_modify   colname c_T_hot Temp_hot colname c_T_cold Temp_cold &\n",
    "                colname f_hot_langevin E_hot colname f_cold_langevin E_cold &\n",
    "                colname v_tdiff dTemp_step colname f_ave dTemp_ave\n",
    "\n",
    "# Bin the atoms into 20 layers along the z-axis\n",
    "compute         layers all chunk/atom bin/1d z lower 0.05 units reduced\n",
    "\n",
    "# Block average - Input values every 10 steps (average v_temp in each layer)\n",
    "# In each layer, calculate the average temperature every 1000 steps, using the latest 100 samples.\n",
    "# Coord1 in profile.langevin represents the center point of the bin\n",
    "#fix            test all ave/chunk 10 1 10 layers v_temp file profile.langevin_test # For testing average v_temp in each layer\n",
    "fix             2 all ave/chunk 10 100 1000 layers v_temp file profile.langevin\n",
    "\n",
    "variable        start_time equal time\n",
    "\n",
    "# f_hot_langevin and f_cold_langevin are the cumulative energies removed/added in the hot and cold regions, respectively.\n",
    "# 0.5 * (abs(f_hot_langevin) + abs(f_cold_langevin)) is delta Q is the average of the total out/in energy for the 2 regions.\n",
    "# A/2 since energy flux goes in 2 directions due to periodic z.\n",
    "# lz/2.0 is the distance from the middle of the hot region to the middle of the cold region.\n",
    "variable        kappa equal (0.5*(abs(f_hot_langevin)+abs(f_cold_langevin))/(time-${start_time})/(lx*ly)/2.0)*(lz/2.0)/f_ave\n",
    "variable        kappa_wmk equal (0.5*(abs(f_hot_langevin)+abs(f_cold_langevin))/(time-${start_time})/(lx*ly)/2.0)*(lz/2.0)/f_ave*1.60218e-19/1e-12/1e-10\n",
    "        \n",
    "shell if [ -d kappa ]; then rm -rf kappa; fi\n",
    "shell mkdir kappa\n",
    "dump            3 all custom 100 kappa/dump.kappa_*.cfg id mass type x y z v_temp\n",
    "\n",
    "run             20000\n",
    "print           \"time: $(time)\"\n",
    "print           \"Final running average thermal conductivity: $(v_kappa)\"\n",
    "print           \"Final running average thermal conductivity: $(v_kappa_wmk) W/mK\"\n",
    "\n"
   ]
  },
  {
   "cell_type": "markdown",
   "metadata": {},
   "source": [
    "Run on LAMMPS on your personal computer or a cluster"
   ]
  },
  {
   "cell_type": "code",
   "execution_count": 5,
   "metadata": {},
   "outputs": [
    {
     "name": "stdout",
     "output_type": "stream",
     "text": [
      "LAMMPS (29 Aug 2024 - Development - 2995cb76ae)\n",
      "OMP_NUM_THREADS environment is not set. Defaulting to 1 thread. (src/comm.cpp:98)\n",
      "  using 1 OpenMP thread(s) per MPI task\n",
      "Lattice spacing in x,y,z = 4.05 4.05 4.05\n",
      "Created orthogonal box = (0 0 0) to (40.5 40.5 81)\n",
      "  1 by 1 by 1 MPI processor grid\n",
      "Created 8000 atoms\n",
      "  using lattice units in orthogonal box = (0 0 0) to (40.5 40.5 81)\n",
      "  create_atoms CPU = 0.001 seconds\n",
      "Reading eam/alloy potential file CuAgAuNiPdPtAlPbFeMoTaWMgCoTiZr_Zhou04.eam.alloy.txt with DATE: 2018-03-30\n",
      "Neighbor list info ...\n",
      "  update: every = 1 steps, delay = 0 steps, check = yes\n",
      "  max neighbors/atom: 2000, page size: 100000\n",
      "  master list distance cutoff = 9.8256185\n",
      "  ghost atom cutoff = 9.8256185\n",
      "  binsize = 4.9128093, bins = 9 9 17\n",
      "  1 neighbor lists, perpetual/occasional/extra = 1 0 0\n",
      "  (1) pair eam/alloy, perpetual\n",
      "      attributes: half, newton on\n",
      "      pair build: half/bin/atomonly/newton\n",
      "      stencil: half/bin/3d\n",
      "      bin: standard\n",
      "Setting up Verlet run ...\n",
      "  Unit style    : metal\n",
      "  Current step  : 0\n",
      "  Time step     : 0.001\n",
      "Per MPI rank memory allocation (min/avg/max) = 9.772 | 9.772 | 9.772 Mbytes\n",
      "   Step          Temp          E_pair         E_mol          TotEng         Press          Volume    \n",
      "         0   300           -28640.02       0             -28329.834      2605.8485      132860.25    \n",
      "      1000   297.29902     -28268.07       0             -27960.677     -417.49934      139725.89    \n",
      "Loop time of 25.3817 on 1 procs for 1000 steps with 8000 atoms\n",
      "\n",
      "Performance: 3.404 ns/day, 7.050 hours/ns, 39.398 timesteps/s, 315.188 katom-step/s\n",
      "100.0% CPU use with 1 MPI tasks x 1 OpenMP threads\n",
      "\n",
      "MPI task timing breakdown:\n",
      "Section |  min time  |  avg time  |  max time  |%varavg| %total\n",
      "---------------------------------------------------------------\n",
      "Pair    | 24.892     | 24.892     | 24.892     |   0.0 | 98.07\n",
      "Neigh   | 0.11996    | 0.11996    | 0.11996    |   0.0 |  0.47\n",
      "Comm    | 0.058659   | 0.058659   | 0.058659   |   0.0 |  0.23\n",
      "Output  | 0.014321   | 0.014321   | 0.014321   |   0.0 |  0.06\n",
      "Modify  | 0.25403    | 0.25403    | 0.25403    |   0.0 |  1.00\n",
      "Other   |            | 0.04288    |            |       |  0.17\n",
      "\n",
      "Nlocal:           8000 ave        8000 max        8000 min\n",
      "Histogram: 1 0 0 0 0 0 0 0 0 0\n",
      "Nghost:          12606 ave       12606 max       12606 min\n",
      "Histogram: 1 0 0 0 0 0 0 0 0 0\n",
      "Neighs:         887539 ave      887539 max      887539 min\n",
      "Histogram: 1 0 0 0 0 0 0 0 0 0\n",
      "\n",
      "Total # of neighbors = 887539\n",
      "Ave neighs/atom = 110.94237\n",
      "Neighbor list builds = 6\n",
      "Dangerous builds = 0\n",
      "Setting up Verlet run ...\n",
      "  Unit style    : metal\n",
      "  Current step  : 0\n",
      "  Time step     : 0.001\n",
      "Per MPI rank memory allocation (min/avg/max) = 11.27 | 11.27 | 11.27 Mbytes\n",
      "   Step          Temp         Temp_hot      Temp_cold        E_hot          E_cold       dTemp_step  \n",
      "         0   297.29902      304.75517      305.00714     -0             -0             -0.2519705    \n",
      "      1000   299.77299      359.98195      232.27747     -29.260137      28.981207      127.70448    \n",
      "Loop time of 24.6825 on 1 procs for 1000 steps with 8000 atoms\n",
      "\n",
      "Performance: 3.500 ns/day, 6.856 hours/ns, 40.515 timesteps/s, 324.116 katom-step/s\n",
      "99.6% CPU use with 1 MPI tasks x 1 OpenMP threads\n",
      "\n",
      "MPI task timing breakdown:\n",
      "Section |  min time  |  avg time  |  max time  |%varavg| %total\n",
      "---------------------------------------------------------------\n",
      "Pair    | 23.122     | 23.122     | 23.122     |   0.0 | 93.68\n",
      "Neigh   | 0.15328    | 0.15328    | 0.15328    |   0.0 |  0.62\n",
      "Comm    | 0.10171    | 0.10171    | 0.10171    |   0.0 |  0.41\n",
      "Output  | 0.16404    | 0.16404    | 0.16404    |   0.0 |  0.66\n",
      "Modify  | 1.0942     | 1.0942     | 1.0942     |   0.0 |  4.43\n",
      "Other   |            | 0.04772    |            |       |  0.19\n",
      "\n",
      "Nlocal:           8000 ave        8000 max        8000 min\n",
      "Histogram: 1 0 0 0 0 0 0 0 0 0\n",
      "Nghost:          12612 ave       12612 max       12612 min\n",
      "Histogram: 1 0 0 0 0 0 0 0 0 0\n",
      "Neighs:         884510 ave      884510 max      884510 min\n",
      "Histogram: 1 0 0 0 0 0 0 0 0 0\n",
      "\n",
      "Total # of neighbors = 884510\n",
      "Ave neighs/atom = 110.56375\n",
      "Neighbor list builds = 8\n",
      "Dangerous builds = 0\n",
      "WARNING: New thermo_style command, previous thermo_modify settings will be lost (src/output.cpp:904)\n",
      "Setting up Verlet run ...\n",
      "  Unit style    : metal\n",
      "  Current step  : 0\n",
      "  Time step     : 0.001\n",
      "Per MPI rank memory allocation (min/avg/max) = 11.77 | 11.77 | 11.77 Mbytes\n",
      "   Step          Temp         Temp_hot      Temp_cold        E_hot          E_cold       dTemp_step     dTemp_ave   \n",
      "         0   299.77299      359.98195      232.27747     -0             -0              127.70448      0            \n",
      "      1000   294.91511      373.03122      223.21682     -16.006118      19.448846      149.8144       160.09163    \n",
      "Loop time of 24.6545 on 1 procs for 1000 steps with 8000 atoms\n",
      "\n",
      "Performance: 3.504 ns/day, 6.848 hours/ns, 40.560 timesteps/s, 324.484 katom-step/s\n",
      "99.3% CPU use with 1 MPI tasks x 1 OpenMP threads\n",
      "\n",
      "MPI task timing breakdown:\n",
      "Section |  min time  |  avg time  |  max time  |%varavg| %total\n",
      "---------------------------------------------------------------\n",
      "Pair    | 22.942     | 22.942     | 22.942     |   0.0 | 93.05\n",
      "Neigh   | 0.15066    | 0.15066    | 0.15066    |   0.0 |  0.61\n",
      "Comm    | 0.11334    | 0.11334    | 0.11334    |   0.0 |  0.46\n",
      "Output  | 0.17865    | 0.17865    | 0.17865    |   0.0 |  0.72\n",
      "Modify  | 1.2188     | 1.2188     | 1.2188     |   0.0 |  4.94\n",
      "Other   |            | 0.05091    |            |       |  0.21\n",
      "\n",
      "Nlocal:           8000 ave        8000 max        8000 min\n",
      "Histogram: 1 0 0 0 0 0 0 0 0 0\n",
      "Nghost:          12614 ave       12614 max       12614 min\n",
      "Histogram: 1 0 0 0 0 0 0 0 0 0\n",
      "Neighs:         884577 ave      884577 max      884577 min\n",
      "Histogram: 1 0 0 0 0 0 0 0 0 0\n",
      "\n",
      "Total # of neighbors = 884577\n",
      "Ave neighs/atom = 110.57212\n",
      "Neighbor list builds = 8\n",
      "Dangerous builds = 0\n",
      "Final running average thermal conductivity: 0.00\n",
      "Total wall time: 0:01:15\n"
     ]
    }
   ],
   "source": [
    "!lmp < in.langevin"
   ]
  },
  {
   "cell_type": "code",
   "execution_count": 156,
   "metadata": {},
   "outputs": [],
   "source": [
    "# Read the profile.langevin file to plot the temperature profile\n",
    "with open('profile.langevin', 'r') as f:\n",
    "    lines = f.readlines()\n",
    "\n",
    "lines = [line.split() for line in lines]\n",
    "\n",
    "timestep = []\n",
    "coord1_list = []\n",
    "coord1_chunk = []\n",
    "v_temp_list = []\n",
    "v_temp_chunk = []\n",
    "for line in lines:\n",
    "    if line[0] == '#':\n",
    "        continue\n",
    "    elif len(line) == 3:\n",
    "        timestep.append(int(line[0]))\n",
    "        number_of_chunks = int(line[1])\n",
    "    else:\n",
    "        if len(coord1_chunk) < number_of_chunks:\n",
    "            coord1_chunk.append(float(line[1]))\n",
    "            v_temp_chunk.append(float(line[3]))\n",
    "\n",
    "        elif len(coord1_chunk) == number_of_chunks:\n",
    "            coord1_list.append([coord1_chunk])\n",
    "            coord1_chunk = []\n",
    "            coord1_chunk.append(float(line[1]))\n",
    "            \n",
    "            v_temp_list.append([v_temp_chunk])\n",
    "            v_temp_chunk = []\n",
    "            v_temp_chunk.append(float(line[3]))\n",
    "            \n",
    "if coord1_chunk:\n",
    "    coord1_list.append([coord1_chunk])\n",
    "if v_temp_chunk:\n",
    "    v_temp_list.append([v_temp_chunk])\n",
    "    \n",
    "mean_v_temps = [np.mean(v_temp[0]) for v_temp in v_temp_list]\n"
   ]
  },
  {
   "cell_type": "code",
   "execution_count": 157,
   "metadata": {},
   "outputs": [
    {
     "data": {
      "application/vnd.plotly.v1+json": {
       "config": {
        "plotlyServerURL": "https://plot.ly"
       },
       "data": [
        {
         "mode": "lines",
         "name": "1000",
         "type": "scatter",
         "x": [
          0.025,
          0.075,
          0.125,
          0.175,
          0.225,
          0.275,
          0.325,
          0.375,
          0.425,
          0.475,
          0.525,
          0.575,
          0.625,
          0.675,
          0.725,
          0.775,
          0.825,
          0.875,
          0.925,
          0.975
         ],
         "y": [
          1.56564,
          1.44857,
          1.43029,
          1.41314,
          1.37538,
          1.35229,
          1.36477,
          1.33563,
          1.29484,
          1.21663,
          1.14836,
          1.22992,
          1.26037,
          1.31785,
          1.33726,
          1.33074,
          1.3568,
          1.36753,
          1.36384,
          1.45139
         ]
        },
        {
         "mode": "lines",
         "name": "2000",
         "type": "scatter",
         "x": [
          0.025,
          0.075,
          0.125,
          0.175,
          0.225,
          0.275,
          0.325,
          0.375,
          0.425,
          0.475,
          0.525,
          0.575,
          0.625,
          0.675,
          0.725,
          0.775,
          0.825,
          0.875,
          0.925,
          0.975
         ],
         "y": [
          1.60676,
          1.52236,
          1.49738,
          1.4074,
          1.38965,
          1.34698,
          1.3357,
          1.28508,
          1.25188,
          1.16354,
          1.07788,
          1.12306,
          1.20503,
          1.23446,
          1.29118,
          1.37951,
          1.36471,
          1.41591,
          1.45006,
          1.5093
         ]
        },
        {
         "mode": "lines",
         "name": "3000",
         "type": "scatter",
         "x": [
          0.025,
          0.075,
          0.125,
          0.175,
          0.225,
          0.275,
          0.325,
          0.375,
          0.425,
          0.475,
          0.525,
          0.575,
          0.625,
          0.675,
          0.725,
          0.775,
          0.825,
          0.875,
          0.925,
          0.975
         ],
         "y": [
          1.61422,
          1.51696,
          1.44693,
          1.39696,
          1.40023,
          1.39966,
          1.30955,
          1.25581,
          1.25772,
          1.18413,
          1.08057,
          1.1241,
          1.19439,
          1.22271,
          1.3106,
          1.34452,
          1.3859,
          1.36636,
          1.46776,
          1.54451
         ]
        },
        {
         "mode": "lines",
         "name": "4000",
         "type": "scatter",
         "x": [
          0.025,
          0.075,
          0.125,
          0.175,
          0.225,
          0.275,
          0.325,
          0.375,
          0.425,
          0.475,
          0.525,
          0.575,
          0.625,
          0.675,
          0.725,
          0.775,
          0.825,
          0.875,
          0.925,
          0.975
         ],
         "y": [
          1.61974,
          1.5732,
          1.5049,
          1.4463,
          1.40742,
          1.37713,
          1.30034,
          1.25511,
          1.20596,
          1.14252,
          1.06106,
          1.12477,
          1.18922,
          1.22625,
          1.27138,
          1.3577,
          1.39897,
          1.40184,
          1.48166,
          1.5652
         ]
        },
        {
         "mode": "lines",
         "name": "5000",
         "type": "scatter",
         "x": [
          0.025,
          0.075,
          0.125,
          0.175,
          0.225,
          0.275,
          0.325,
          0.375,
          0.425,
          0.475,
          0.525,
          0.575,
          0.625,
          0.675,
          0.725,
          0.775,
          0.825,
          0.875,
          0.925,
          0.975
         ],
         "y": [
          1.63109,
          1.60047,
          1.50609,
          1.48229,
          1.39706,
          1.3704,
          1.29496,
          1.25157,
          1.19245,
          1.12072,
          1.04331,
          1.10467,
          1.14544,
          1.21752,
          1.26318,
          1.3392,
          1.40046,
          1.40445,
          1.52199,
          1.59272
         ]
        },
        {
         "mode": "lines",
         "name": "6000",
         "type": "scatter",
         "x": [
          0.025,
          0.075,
          0.125,
          0.175,
          0.225,
          0.275,
          0.325,
          0.375,
          0.425,
          0.475,
          0.525,
          0.575,
          0.625,
          0.675,
          0.725,
          0.775,
          0.825,
          0.875,
          0.925,
          0.975
         ],
         "y": [
          1.63774,
          1.56012,
          1.46609,
          1.37017,
          1.38245,
          1.3304,
          1.27336,
          1.20323,
          1.14453,
          1.10757,
          1.06847,
          1.09119,
          1.17507,
          1.2232,
          1.28234,
          1.36229,
          1.37899,
          1.44902,
          1.52132,
          1.55657
         ]
        },
        {
         "mode": "lines",
         "name": "7000",
         "type": "scatter",
         "x": [
          0.025,
          0.075,
          0.125,
          0.175,
          0.225,
          0.275,
          0.325,
          0.375,
          0.425,
          0.475,
          0.525,
          0.575,
          0.625,
          0.675,
          0.725,
          0.775,
          0.825,
          0.875,
          0.925,
          0.975
         ],
         "y": [
          1.6354,
          1.55678,
          1.50959,
          1.44395,
          1.38532,
          1.35989,
          1.25667,
          1.19198,
          1.152,
          1.12813,
          1.04716,
          1.07442,
          1.14114,
          1.2113,
          1.24076,
          1.29606,
          1.37076,
          1.47467,
          1.50094,
          1.5606
         ]
        },
        {
         "mode": "lines",
         "name": "8000",
         "type": "scatter",
         "x": [
          0.025,
          0.075,
          0.125,
          0.175,
          0.225,
          0.275,
          0.325,
          0.375,
          0.425,
          0.475,
          0.525,
          0.575,
          0.625,
          0.675,
          0.725,
          0.775,
          0.825,
          0.875,
          0.925,
          0.975
         ],
         "y": [
          1.57454,
          1.5255,
          1.46835,
          1.39199,
          1.35635,
          1.32266,
          1.24817,
          1.20335,
          1.13875,
          1.10183,
          1.05923,
          1.12049,
          1.18385,
          1.19078,
          1.23784,
          1.27438,
          1.35739,
          1.45752,
          1.49761,
          1.5618
         ]
        },
        {
         "mode": "lines",
         "name": "9000",
         "type": "scatter",
         "x": [
          0.025,
          0.075,
          0.125,
          0.175,
          0.225,
          0.275,
          0.325,
          0.375,
          0.425,
          0.475,
          0.525,
          0.575,
          0.625,
          0.675,
          0.725,
          0.775,
          0.825,
          0.875,
          0.925,
          0.975
         ],
         "y": [
          1.62924,
          1.54757,
          1.50395,
          1.40906,
          1.40066,
          1.34152,
          1.25276,
          1.21961,
          1.13849,
          1.09065,
          1.077,
          1.08828,
          1.17682,
          1.21135,
          1.24594,
          1.2837,
          1.34054,
          1.4434,
          1.4786,
          1.5715
         ]
        },
        {
         "mode": "lines",
         "name": "10000",
         "type": "scatter",
         "x": [
          0.025,
          0.075,
          0.125,
          0.175,
          0.225,
          0.275,
          0.325,
          0.375,
          0.425,
          0.475,
          0.525,
          0.575,
          0.625,
          0.675,
          0.725,
          0.775,
          0.825,
          0.875,
          0.925,
          0.975
         ],
         "y": [
          1.62082,
          1.51725,
          1.48089,
          1.38431,
          1.31641,
          1.26398,
          1.26174,
          1.2146,
          1.15888,
          1.11085,
          1.04251,
          1.12652,
          1.17039,
          1.19952,
          1.22953,
          1.29077,
          1.35367,
          1.4245,
          1.49216,
          1.57463
         ]
        },
        {
         "mode": "lines",
         "name": "11000",
         "type": "scatter",
         "x": [
          0.025,
          0.075,
          0.125,
          0.175,
          0.225,
          0.275,
          0.325,
          0.375,
          0.425,
          0.475,
          0.525,
          0.575,
          0.625,
          0.675,
          0.725,
          0.775,
          0.825,
          0.875,
          0.925,
          0.975
         ],
         "y": [
          1.60426,
          1.54214,
          1.51102,
          1.43764,
          1.35591,
          1.30757,
          1.25538,
          1.21778,
          1.1592,
          1.09696,
          1.04745,
          1.09174,
          1.14261,
          1.22662,
          1.26237,
          1.30757,
          1.32895,
          1.37792,
          1.50088,
          1.53872
         ]
        },
        {
         "mode": "lines",
         "name": "12000",
         "type": "scatter",
         "x": [
          0.025,
          0.075,
          0.125,
          0.175,
          0.225,
          0.275,
          0.325,
          0.375,
          0.425,
          0.475,
          0.525,
          0.575,
          0.625,
          0.675,
          0.725,
          0.775,
          0.825,
          0.875,
          0.925,
          0.975
         ],
         "y": [
          1.65274,
          1.53133,
          1.49371,
          1.42707,
          1.32973,
          1.31363,
          1.23021,
          1.20478,
          1.15139,
          1.09224,
          1.04629,
          1.07785,
          1.14501,
          1.22425,
          1.24643,
          1.2943,
          1.3236,
          1.44507,
          1.50785,
          1.61186
         ]
        },
        {
         "mode": "lines",
         "name": "13000",
         "type": "scatter",
         "x": [
          0.025,
          0.075,
          0.125,
          0.175,
          0.225,
          0.275,
          0.325,
          0.375,
          0.425,
          0.475,
          0.525,
          0.575,
          0.625,
          0.675,
          0.725,
          0.775,
          0.825,
          0.875,
          0.925,
          0.975
         ],
         "y": [
          1.65506,
          1.51077,
          1.46202,
          1.38711,
          1.34279,
          1.29519,
          1.23789,
          1.18597,
          1.14867,
          1.07337,
          1.05002,
          1.10376,
          1.1411,
          1.20161,
          1.24346,
          1.33824,
          1.35787,
          1.40978,
          1.49762,
          1.57146
         ]
        },
        {
         "mode": "lines",
         "name": "14000",
         "type": "scatter",
         "x": [
          0.025,
          0.075,
          0.125,
          0.175,
          0.225,
          0.275,
          0.325,
          0.375,
          0.425,
          0.475,
          0.525,
          0.575,
          0.625,
          0.675,
          0.725,
          0.775,
          0.825,
          0.875,
          0.925,
          0.975
         ],
         "y": [
          1.63939,
          1.52403,
          1.4788,
          1.41438,
          1.39817,
          1.32091,
          1.26245,
          1.19327,
          1.14003,
          1.1023,
          1.06771,
          1.08777,
          1.13638,
          1.17512,
          1.23388,
          1.28745,
          1.33005,
          1.42697,
          1.48003,
          1.58614
         ]
        },
        {
         "mode": "lines",
         "name": "15000",
         "type": "scatter",
         "x": [
          0.025,
          0.075,
          0.125,
          0.175,
          0.225,
          0.275,
          0.325,
          0.375,
          0.425,
          0.475,
          0.525,
          0.575,
          0.625,
          0.675,
          0.725,
          0.775,
          0.825,
          0.875,
          0.925,
          0.975
         ],
         "y": [
          1.59622,
          1.55472,
          1.50555,
          1.42599,
          1.37336,
          1.30545,
          1.24417,
          1.19875,
          1.14294,
          1.09698,
          1.0579,
          1.08915,
          1.14734,
          1.19634,
          1.23767,
          1.30925,
          1.33805,
          1.3964,
          1.47746,
          1.50944
         ]
        },
        {
         "mode": "lines",
         "name": "16000",
         "type": "scatter",
         "x": [
          0.025,
          0.075,
          0.125,
          0.175,
          0.225,
          0.275,
          0.325,
          0.375,
          0.425,
          0.475,
          0.525,
          0.575,
          0.625,
          0.675,
          0.725,
          0.775,
          0.825,
          0.875,
          0.925,
          0.975
         ],
         "y": [
          1.63174,
          1.58799,
          1.54748,
          1.44893,
          1.35911,
          1.32027,
          1.2406,
          1.16821,
          1.14534,
          1.09828,
          1.0607,
          1.10001,
          1.14823,
          1.19092,
          1.23052,
          1.29131,
          1.33234,
          1.37869,
          1.41472,
          1.51708
         ]
        },
        {
         "mode": "lines",
         "name": "17000",
         "type": "scatter",
         "x": [
          0.025,
          0.075,
          0.125,
          0.175,
          0.225,
          0.275,
          0.325,
          0.375,
          0.425,
          0.475,
          0.525,
          0.575,
          0.625,
          0.675,
          0.725,
          0.775,
          0.825,
          0.875,
          0.925,
          0.975
         ],
         "y": [
          1.62753,
          1.56158,
          1.55596,
          1.42744,
          1.34957,
          1.27973,
          1.24442,
          1.19543,
          1.17235,
          1.09719,
          1.06394,
          1.11117,
          1.14511,
          1.20933,
          1.2605,
          1.31151,
          1.35393,
          1.38386,
          1.48034,
          1.50796
         ]
        },
        {
         "mode": "lines",
         "name": "18000",
         "type": "scatter",
         "x": [
          0.025,
          0.075,
          0.125,
          0.175,
          0.225,
          0.275,
          0.325,
          0.375,
          0.425,
          0.475,
          0.525,
          0.575,
          0.625,
          0.675,
          0.725,
          0.775,
          0.825,
          0.875,
          0.925,
          0.975
         ],
         "y": [
          1.60297,
          1.60531,
          1.49963,
          1.42657,
          1.36199,
          1.31215,
          1.22608,
          1.17945,
          1.13694,
          1.12522,
          1.08351,
          1.09058,
          1.14562,
          1.20142,
          1.26903,
          1.32607,
          1.35449,
          1.39705,
          1.47155,
          1.5594
         ]
        },
        {
         "mode": "lines",
         "name": "19000",
         "type": "scatter",
         "x": [
          0.025,
          0.075,
          0.125,
          0.175,
          0.225,
          0.275,
          0.325,
          0.375,
          0.425,
          0.475,
          0.525,
          0.575,
          0.625,
          0.675,
          0.725,
          0.775,
          0.825,
          0.875,
          0.925,
          0.975
         ],
         "y": [
          1.61043,
          1.52067,
          1.52677,
          1.42028,
          1.3982,
          1.3285,
          1.27344,
          1.19475,
          1.16179,
          1.11514,
          1.08216,
          1.10084,
          1.13139,
          1.2073,
          1.26329,
          1.28523,
          1.33187,
          1.38082,
          1.44586,
          1.5538
         ]
        },
        {
         "mode": "lines",
         "name": "20000",
         "type": "scatter",
         "x": [
          0.025,
          0.075,
          0.125,
          0.175,
          0.225,
          0.275,
          0.325,
          0.375,
          0.425,
          0.475,
          0.525,
          0.575,
          0.625,
          0.675,
          0.725,
          0.775,
          0.825,
          0.875,
          0.925,
          0.975
         ],
         "y": [
          1.65868,
          1.50704,
          1.46324,
          1.39581,
          1.34038,
          1.29211,
          1.29356,
          1.20245,
          1.12765,
          1.09625,
          1.07539,
          1.07534,
          1.12587,
          1.18493,
          1.25343,
          1.33493,
          1.34801,
          1.40373,
          1.47997,
          1.54325
         ]
        },
        {
         "mode": "lines",
         "name": "21000",
         "type": "scatter",
         "x": [
          0.025,
          0.075,
          0.125,
          0.175,
          0.225,
          0.275,
          0.325,
          0.375,
          0.425,
          0.475,
          0.525,
          0.575,
          0.625,
          0.675,
          0.725,
          0.775,
          0.825,
          0.875,
          0.925,
          0.975
         ],
         "y": [
          1.63103,
          1.59019,
          1.48197,
          1.44116,
          1.32817,
          1.28037,
          1.24823,
          1.24182,
          1.15419,
          1.08918,
          1.05038,
          1.10771,
          1.13809,
          1.17281,
          1.24631,
          1.29549,
          1.3594,
          1.41384,
          1.44201,
          1.56324
         ]
        },
        {
         "mode": "lines",
         "name": "22000",
         "type": "scatter",
         "x": [
          0.025,
          0.075,
          0.125,
          0.175,
          0.225,
          0.275,
          0.325,
          0.375,
          0.425,
          0.475,
          0.525,
          0.575,
          0.625,
          0.675,
          0.725,
          0.775,
          0.825,
          0.875,
          0.925,
          0.975
         ],
         "y": [
          1.67303,
          1.55507,
          1.45551,
          1.42785,
          1.36296,
          1.29236,
          1.25401,
          1.21999,
          1.16386,
          1.08462,
          1.05362,
          1.12031,
          1.14958,
          1.17879,
          1.21576,
          1.26248,
          1.32512,
          1.37286,
          1.46399,
          1.59371
         ]
        },
        {
         "mode": "lines",
         "name": "23000",
         "type": "scatter",
         "x": [
          0.025,
          0.075,
          0.125,
          0.175,
          0.225,
          0.275,
          0.325,
          0.375,
          0.425,
          0.475,
          0.525,
          0.575,
          0.625,
          0.675,
          0.725,
          0.775,
          0.825,
          0.875,
          0.925,
          0.975
         ],
         "y": [
          1.61369,
          1.51434,
          1.45349,
          1.36698,
          1.31734,
          1.26092,
          1.24335,
          1.1767,
          1.13011,
          1.08642,
          1.04914,
          1.08304,
          1.14249,
          1.20171,
          1.27468,
          1.2642,
          1.32005,
          1.38702,
          1.47254,
          1.54152
         ]
        },
        {
         "mode": "lines",
         "name": "24000",
         "type": "scatter",
         "x": [
          0.025,
          0.075,
          0.125,
          0.175,
          0.225,
          0.275,
          0.325,
          0.375,
          0.425,
          0.475,
          0.525,
          0.575,
          0.625,
          0.675,
          0.725,
          0.775,
          0.825,
          0.875,
          0.925,
          0.975
         ],
         "y": [
          1.61338,
          1.49377,
          1.42712,
          1.38475,
          1.3222,
          1.31034,
          1.25754,
          1.19735,
          1.14815,
          1.114,
          1.06646,
          1.09773,
          1.13922,
          1.1889,
          1.22037,
          1.26332,
          1.34184,
          1.38343,
          1.42512,
          1.46754
         ]
        },
        {
         "mode": "lines",
         "name": "25000",
         "type": "scatter",
         "x": [
          0.025,
          0.075,
          0.125,
          0.175,
          0.225,
          0.275,
          0.325,
          0.375,
          0.425,
          0.475,
          0.525,
          0.575,
          0.625,
          0.675,
          0.725,
          0.775,
          0.825,
          0.875,
          0.925,
          0.975
         ],
         "y": [
          1.5899,
          1.4908,
          1.46915,
          1.35051,
          1.294,
          1.30556,
          1.26987,
          1.19503,
          1.14264,
          1.07905,
          1.06266,
          1.07666,
          1.1156,
          1.20649,
          1.22392,
          1.27292,
          1.31373,
          1.38835,
          1.45042,
          1.48688
         ]
        },
        {
         "mode": "lines",
         "name": "26000",
         "type": "scatter",
         "x": [
          0.025,
          0.075,
          0.125,
          0.175,
          0.225,
          0.275,
          0.325,
          0.375,
          0.425,
          0.475,
          0.525,
          0.575,
          0.625,
          0.675,
          0.725,
          0.775,
          0.825,
          0.875,
          0.925,
          0.975
         ],
         "y": [
          1.58118,
          1.51327,
          1.45997,
          1.42462,
          1.38217,
          1.30925,
          1.25724,
          1.20663,
          1.16758,
          1.11142,
          1.06452,
          1.09853,
          1.14159,
          1.17849,
          1.21174,
          1.27455,
          1.30809,
          1.4062,
          1.44659,
          1.50007
         ]
        },
        {
         "mode": "lines",
         "name": "27000",
         "type": "scatter",
         "x": [
          0.025,
          0.075,
          0.125,
          0.175,
          0.225,
          0.275,
          0.325,
          0.375,
          0.425,
          0.475,
          0.525,
          0.575,
          0.625,
          0.675,
          0.725,
          0.775,
          0.825,
          0.875,
          0.925,
          0.975
         ],
         "y": [
          1.58515,
          1.55272,
          1.46825,
          1.38961,
          1.34971,
          1.27014,
          1.21589,
          1.19177,
          1.17824,
          1.11123,
          1.04886,
          1.08934,
          1.12103,
          1.19536,
          1.27165,
          1.29005,
          1.35432,
          1.41453,
          1.42538,
          1.47035
         ]
        },
        {
         "mode": "lines",
         "name": "28000",
         "type": "scatter",
         "x": [
          0.025,
          0.075,
          0.125,
          0.175,
          0.225,
          0.275,
          0.325,
          0.375,
          0.425,
          0.475,
          0.525,
          0.575,
          0.625,
          0.675,
          0.725,
          0.775,
          0.825,
          0.875,
          0.925,
          0.975
         ],
         "y": [
          1.60653,
          1.54982,
          1.49512,
          1.40791,
          1.35723,
          1.30396,
          1.21281,
          1.20767,
          1.17953,
          1.10993,
          1.05928,
          1.07778,
          1.12943,
          1.18925,
          1.23699,
          1.32524,
          1.32437,
          1.37099,
          1.45924,
          1.49242
         ]
        },
        {
         "mode": "lines",
         "name": "29000",
         "type": "scatter",
         "x": [
          0.025,
          0.075,
          0.125,
          0.175,
          0.225,
          0.275,
          0.325,
          0.375,
          0.425,
          0.475,
          0.525,
          0.575,
          0.625,
          0.675,
          0.725,
          0.775,
          0.825,
          0.875,
          0.925,
          0.975
         ],
         "y": [
          1.60841,
          1.52725,
          1.45765,
          1.38289,
          1.36436,
          1.32634,
          1.23632,
          1.21663,
          1.17793,
          1.09123,
          1.04905,
          1.06371,
          1.14574,
          1.17858,
          1.24375,
          1.28861,
          1.36069,
          1.42603,
          1.48086,
          1.54394
         ]
        },
        {
         "mode": "lines",
         "name": "30000",
         "type": "scatter",
         "x": [
          0.025,
          0.075,
          0.125,
          0.175,
          0.225,
          0.275,
          0.325,
          0.375,
          0.425,
          0.475,
          0.525,
          0.575,
          0.625,
          0.675,
          0.725,
          0.775,
          0.825,
          0.875,
          0.925,
          0.975
         ],
         "y": [
          1.63507,
          1.53514,
          1.45834,
          1.40489,
          1.37749,
          1.33015,
          1.25,
          1.19313,
          1.15235,
          1.07477,
          1.03273,
          1.09973,
          1.14833,
          1.16757,
          1.22106,
          1.27889,
          1.32964,
          1.38053,
          1.43718,
          1.56072
         ]
        }
       ],
       "layout": {
        "height": 600,
        "plot_bgcolor": "white",
        "shapes": [
         {
          "line": {
           "color": "red",
           "width": 1
          },
          "type": "line",
          "x0": 0,
          "x1": 0,
          "y0": 0,
          "y1": 2
         },
         {
          "line": {
           "color": "red",
           "width": 1
          },
          "type": "line",
          "x0": 0.05,
          "x1": 0.05,
          "y0": 0,
          "y1": 2
         },
         {
          "line": {
           "color": "blue",
           "width": 1
          },
          "type": "line",
          "x0": 0.5,
          "x1": 0.5,
          "y0": 0,
          "y1": 2
         },
         {
          "line": {
           "color": "blue",
           "width": 1
          },
          "type": "line",
          "x0": 0.55,
          "x1": 0.55,
          "y0": 0,
          "y1": 2
         }
        ],
        "template": {
         "data": {
          "bar": [
           {
            "error_x": {
             "color": "#2a3f5f"
            },
            "error_y": {
             "color": "#2a3f5f"
            },
            "marker": {
             "line": {
              "color": "#E5ECF6",
              "width": 0.5
             },
             "pattern": {
              "fillmode": "overlay",
              "size": 10,
              "solidity": 0.2
             }
            },
            "type": "bar"
           }
          ],
          "barpolar": [
           {
            "marker": {
             "line": {
              "color": "#E5ECF6",
              "width": 0.5
             },
             "pattern": {
              "fillmode": "overlay",
              "size": 10,
              "solidity": 0.2
             }
            },
            "type": "barpolar"
           }
          ],
          "carpet": [
           {
            "aaxis": {
             "endlinecolor": "#2a3f5f",
             "gridcolor": "white",
             "linecolor": "white",
             "minorgridcolor": "white",
             "startlinecolor": "#2a3f5f"
            },
            "baxis": {
             "endlinecolor": "#2a3f5f",
             "gridcolor": "white",
             "linecolor": "white",
             "minorgridcolor": "white",
             "startlinecolor": "#2a3f5f"
            },
            "type": "carpet"
           }
          ],
          "choropleth": [
           {
            "colorbar": {
             "outlinewidth": 0,
             "ticks": ""
            },
            "type": "choropleth"
           }
          ],
          "contour": [
           {
            "colorbar": {
             "outlinewidth": 0,
             "ticks": ""
            },
            "colorscale": [
             [
              0,
              "#0d0887"
             ],
             [
              0.1111111111111111,
              "#46039f"
             ],
             [
              0.2222222222222222,
              "#7201a8"
             ],
             [
              0.3333333333333333,
              "#9c179e"
             ],
             [
              0.4444444444444444,
              "#bd3786"
             ],
             [
              0.5555555555555556,
              "#d8576b"
             ],
             [
              0.6666666666666666,
              "#ed7953"
             ],
             [
              0.7777777777777778,
              "#fb9f3a"
             ],
             [
              0.8888888888888888,
              "#fdca26"
             ],
             [
              1,
              "#f0f921"
             ]
            ],
            "type": "contour"
           }
          ],
          "contourcarpet": [
           {
            "colorbar": {
             "outlinewidth": 0,
             "ticks": ""
            },
            "type": "contourcarpet"
           }
          ],
          "heatmap": [
           {
            "colorbar": {
             "outlinewidth": 0,
             "ticks": ""
            },
            "colorscale": [
             [
              0,
              "#0d0887"
             ],
             [
              0.1111111111111111,
              "#46039f"
             ],
             [
              0.2222222222222222,
              "#7201a8"
             ],
             [
              0.3333333333333333,
              "#9c179e"
             ],
             [
              0.4444444444444444,
              "#bd3786"
             ],
             [
              0.5555555555555556,
              "#d8576b"
             ],
             [
              0.6666666666666666,
              "#ed7953"
             ],
             [
              0.7777777777777778,
              "#fb9f3a"
             ],
             [
              0.8888888888888888,
              "#fdca26"
             ],
             [
              1,
              "#f0f921"
             ]
            ],
            "type": "heatmap"
           }
          ],
          "heatmapgl": [
           {
            "colorbar": {
             "outlinewidth": 0,
             "ticks": ""
            },
            "colorscale": [
             [
              0,
              "#0d0887"
             ],
             [
              0.1111111111111111,
              "#46039f"
             ],
             [
              0.2222222222222222,
              "#7201a8"
             ],
             [
              0.3333333333333333,
              "#9c179e"
             ],
             [
              0.4444444444444444,
              "#bd3786"
             ],
             [
              0.5555555555555556,
              "#d8576b"
             ],
             [
              0.6666666666666666,
              "#ed7953"
             ],
             [
              0.7777777777777778,
              "#fb9f3a"
             ],
             [
              0.8888888888888888,
              "#fdca26"
             ],
             [
              1,
              "#f0f921"
             ]
            ],
            "type": "heatmapgl"
           }
          ],
          "histogram": [
           {
            "marker": {
             "pattern": {
              "fillmode": "overlay",
              "size": 10,
              "solidity": 0.2
             }
            },
            "type": "histogram"
           }
          ],
          "histogram2d": [
           {
            "colorbar": {
             "outlinewidth": 0,
             "ticks": ""
            },
            "colorscale": [
             [
              0,
              "#0d0887"
             ],
             [
              0.1111111111111111,
              "#46039f"
             ],
             [
              0.2222222222222222,
              "#7201a8"
             ],
             [
              0.3333333333333333,
              "#9c179e"
             ],
             [
              0.4444444444444444,
              "#bd3786"
             ],
             [
              0.5555555555555556,
              "#d8576b"
             ],
             [
              0.6666666666666666,
              "#ed7953"
             ],
             [
              0.7777777777777778,
              "#fb9f3a"
             ],
             [
              0.8888888888888888,
              "#fdca26"
             ],
             [
              1,
              "#f0f921"
             ]
            ],
            "type": "histogram2d"
           }
          ],
          "histogram2dcontour": [
           {
            "colorbar": {
             "outlinewidth": 0,
             "ticks": ""
            },
            "colorscale": [
             [
              0,
              "#0d0887"
             ],
             [
              0.1111111111111111,
              "#46039f"
             ],
             [
              0.2222222222222222,
              "#7201a8"
             ],
             [
              0.3333333333333333,
              "#9c179e"
             ],
             [
              0.4444444444444444,
              "#bd3786"
             ],
             [
              0.5555555555555556,
              "#d8576b"
             ],
             [
              0.6666666666666666,
              "#ed7953"
             ],
             [
              0.7777777777777778,
              "#fb9f3a"
             ],
             [
              0.8888888888888888,
              "#fdca26"
             ],
             [
              1,
              "#f0f921"
             ]
            ],
            "type": "histogram2dcontour"
           }
          ],
          "mesh3d": [
           {
            "colorbar": {
             "outlinewidth": 0,
             "ticks": ""
            },
            "type": "mesh3d"
           }
          ],
          "parcoords": [
           {
            "line": {
             "colorbar": {
              "outlinewidth": 0,
              "ticks": ""
             }
            },
            "type": "parcoords"
           }
          ],
          "pie": [
           {
            "automargin": true,
            "type": "pie"
           }
          ],
          "scatter": [
           {
            "fillpattern": {
             "fillmode": "overlay",
             "size": 10,
             "solidity": 0.2
            },
            "type": "scatter"
           }
          ],
          "scatter3d": [
           {
            "line": {
             "colorbar": {
              "outlinewidth": 0,
              "ticks": ""
             }
            },
            "marker": {
             "colorbar": {
              "outlinewidth": 0,
              "ticks": ""
             }
            },
            "type": "scatter3d"
           }
          ],
          "scattercarpet": [
           {
            "marker": {
             "colorbar": {
              "outlinewidth": 0,
              "ticks": ""
             }
            },
            "type": "scattercarpet"
           }
          ],
          "scattergeo": [
           {
            "marker": {
             "colorbar": {
              "outlinewidth": 0,
              "ticks": ""
             }
            },
            "type": "scattergeo"
           }
          ],
          "scattergl": [
           {
            "marker": {
             "colorbar": {
              "outlinewidth": 0,
              "ticks": ""
             }
            },
            "type": "scattergl"
           }
          ],
          "scattermapbox": [
           {
            "marker": {
             "colorbar": {
              "outlinewidth": 0,
              "ticks": ""
             }
            },
            "type": "scattermapbox"
           }
          ],
          "scatterpolar": [
           {
            "marker": {
             "colorbar": {
              "outlinewidth": 0,
              "ticks": ""
             }
            },
            "type": "scatterpolar"
           }
          ],
          "scatterpolargl": [
           {
            "marker": {
             "colorbar": {
              "outlinewidth": 0,
              "ticks": ""
             }
            },
            "type": "scatterpolargl"
           }
          ],
          "scatterternary": [
           {
            "marker": {
             "colorbar": {
              "outlinewidth": 0,
              "ticks": ""
             }
            },
            "type": "scatterternary"
           }
          ],
          "surface": [
           {
            "colorbar": {
             "outlinewidth": 0,
             "ticks": ""
            },
            "colorscale": [
             [
              0,
              "#0d0887"
             ],
             [
              0.1111111111111111,
              "#46039f"
             ],
             [
              0.2222222222222222,
              "#7201a8"
             ],
             [
              0.3333333333333333,
              "#9c179e"
             ],
             [
              0.4444444444444444,
              "#bd3786"
             ],
             [
              0.5555555555555556,
              "#d8576b"
             ],
             [
              0.6666666666666666,
              "#ed7953"
             ],
             [
              0.7777777777777778,
              "#fb9f3a"
             ],
             [
              0.8888888888888888,
              "#fdca26"
             ],
             [
              1,
              "#f0f921"
             ]
            ],
            "type": "surface"
           }
          ],
          "table": [
           {
            "cells": {
             "fill": {
              "color": "#EBF0F8"
             },
             "line": {
              "color": "white"
             }
            },
            "header": {
             "fill": {
              "color": "#C8D4E3"
             },
             "line": {
              "color": "white"
             }
            },
            "type": "table"
           }
          ]
         },
         "layout": {
          "annotationdefaults": {
           "arrowcolor": "#2a3f5f",
           "arrowhead": 0,
           "arrowwidth": 1
          },
          "autotypenumbers": "strict",
          "coloraxis": {
           "colorbar": {
            "outlinewidth": 0,
            "ticks": ""
           }
          },
          "colorscale": {
           "diverging": [
            [
             0,
             "#8e0152"
            ],
            [
             0.1,
             "#c51b7d"
            ],
            [
             0.2,
             "#de77ae"
            ],
            [
             0.3,
             "#f1b6da"
            ],
            [
             0.4,
             "#fde0ef"
            ],
            [
             0.5,
             "#f7f7f7"
            ],
            [
             0.6,
             "#e6f5d0"
            ],
            [
             0.7,
             "#b8e186"
            ],
            [
             0.8,
             "#7fbc41"
            ],
            [
             0.9,
             "#4d9221"
            ],
            [
             1,
             "#276419"
            ]
           ],
           "sequential": [
            [
             0,
             "#0d0887"
            ],
            [
             0.1111111111111111,
             "#46039f"
            ],
            [
             0.2222222222222222,
             "#7201a8"
            ],
            [
             0.3333333333333333,
             "#9c179e"
            ],
            [
             0.4444444444444444,
             "#bd3786"
            ],
            [
             0.5555555555555556,
             "#d8576b"
            ],
            [
             0.6666666666666666,
             "#ed7953"
            ],
            [
             0.7777777777777778,
             "#fb9f3a"
            ],
            [
             0.8888888888888888,
             "#fdca26"
            ],
            [
             1,
             "#f0f921"
            ]
           ],
           "sequentialminus": [
            [
             0,
             "#0d0887"
            ],
            [
             0.1111111111111111,
             "#46039f"
            ],
            [
             0.2222222222222222,
             "#7201a8"
            ],
            [
             0.3333333333333333,
             "#9c179e"
            ],
            [
             0.4444444444444444,
             "#bd3786"
            ],
            [
             0.5555555555555556,
             "#d8576b"
            ],
            [
             0.6666666666666666,
             "#ed7953"
            ],
            [
             0.7777777777777778,
             "#fb9f3a"
            ],
            [
             0.8888888888888888,
             "#fdca26"
            ],
            [
             1,
             "#f0f921"
            ]
           ]
          },
          "colorway": [
           "#636efa",
           "#EF553B",
           "#00cc96",
           "#ab63fa",
           "#FFA15A",
           "#19d3f3",
           "#FF6692",
           "#B6E880",
           "#FF97FF",
           "#FECB52"
          ],
          "font": {
           "color": "#2a3f5f"
          },
          "geo": {
           "bgcolor": "white",
           "lakecolor": "white",
           "landcolor": "#E5ECF6",
           "showlakes": true,
           "showland": true,
           "subunitcolor": "white"
          },
          "hoverlabel": {
           "align": "left"
          },
          "hovermode": "closest",
          "mapbox": {
           "style": "light"
          },
          "paper_bgcolor": "white",
          "plot_bgcolor": "#E5ECF6",
          "polar": {
           "angularaxis": {
            "gridcolor": "white",
            "linecolor": "white",
            "ticks": ""
           },
           "bgcolor": "#E5ECF6",
           "radialaxis": {
            "gridcolor": "white",
            "linecolor": "white",
            "ticks": ""
           }
          },
          "scene": {
           "xaxis": {
            "backgroundcolor": "#E5ECF6",
            "gridcolor": "white",
            "gridwidth": 2,
            "linecolor": "white",
            "showbackground": true,
            "ticks": "",
            "zerolinecolor": "white"
           },
           "yaxis": {
            "backgroundcolor": "#E5ECF6",
            "gridcolor": "white",
            "gridwidth": 2,
            "linecolor": "white",
            "showbackground": true,
            "ticks": "",
            "zerolinecolor": "white"
           },
           "zaxis": {
            "backgroundcolor": "#E5ECF6",
            "gridcolor": "white",
            "gridwidth": 2,
            "linecolor": "white",
            "showbackground": true,
            "ticks": "",
            "zerolinecolor": "white"
           }
          },
          "shapedefaults": {
           "line": {
            "color": "#2a3f5f"
           }
          },
          "ternary": {
           "aaxis": {
            "gridcolor": "white",
            "linecolor": "white",
            "ticks": ""
           },
           "baxis": {
            "gridcolor": "white",
            "linecolor": "white",
            "ticks": ""
           },
           "bgcolor": "#E5ECF6",
           "caxis": {
            "gridcolor": "white",
            "linecolor": "white",
            "ticks": ""
           }
          },
          "title": {
           "x": 0.05
          },
          "xaxis": {
           "automargin": true,
           "gridcolor": "white",
           "linecolor": "white",
           "ticks": "",
           "title": {
            "standoff": 15
           },
           "zerolinecolor": "white",
           "zerolinewidth": 2
          },
          "yaxis": {
           "automargin": true,
           "gridcolor": "white",
           "linecolor": "white",
           "ticks": "",
           "title": {
            "standoff": 15
           },
           "zerolinecolor": "white",
           "zerolinewidth": 2
          }
         }
        },
        "width": 900,
        "xaxis": {
         "dtick": 0.1,
         "linecolor": "black",
         "linewidth": 1,
         "mirror": true,
         "range": [
          0,
          1
         ],
         "showgrid": false,
         "showline": true,
         "tickfont": {
          "size": 14
         },
         "title": {
          "font": {
           "size": 18
          },
          "text": "z"
         }
        },
        "yaxis": {
         "dtick": 0.1,
         "linecolor": "black",
         "linewidth": 1,
         "mirror": true,
         "range": [
          1,
          1.7
         ],
         "showgrid": false,
         "showline": true,
         "tickfont": {
          "size": 14
         },
         "title": {
          "font": {
           "size": 18
          },
          "text": "Temperature"
         }
        }
       }
      },
      "text/html": [
       "<div>                            <div id=\"eca3ae5a-3ff7-48f4-be6b-0007cded5e1a\" class=\"plotly-graph-div\" style=\"height:600px; width:900px;\"></div>            <script type=\"text/javascript\">                require([\"plotly\"], function(Plotly) {                    window.PLOTLYENV=window.PLOTLYENV || {};                                    if (document.getElementById(\"eca3ae5a-3ff7-48f4-be6b-0007cded5e1a\")) {                    Plotly.newPlot(                        \"eca3ae5a-3ff7-48f4-be6b-0007cded5e1a\",                        [{\"mode\":\"lines\",\"name\":\"1000\",\"x\":[0.025,0.075,0.125,0.175,0.225,0.275,0.325,0.375,0.425,0.475,0.525,0.575,0.625,0.675,0.725,0.775,0.825,0.875,0.925,0.975],\"y\":[1.56564,1.44857,1.43029,1.41314,1.37538,1.35229,1.36477,1.33563,1.29484,1.21663,1.14836,1.22992,1.26037,1.31785,1.33726,1.33074,1.3568,1.36753,1.36384,1.45139],\"type\":\"scatter\"},{\"mode\":\"lines\",\"name\":\"2000\",\"x\":[0.025,0.075,0.125,0.175,0.225,0.275,0.325,0.375,0.425,0.475,0.525,0.575,0.625,0.675,0.725,0.775,0.825,0.875,0.925,0.975],\"y\":[1.60676,1.52236,1.49738,1.4074,1.38965,1.34698,1.3357,1.28508,1.25188,1.16354,1.07788,1.12306,1.20503,1.23446,1.29118,1.37951,1.36471,1.41591,1.45006,1.5093],\"type\":\"scatter\"},{\"mode\":\"lines\",\"name\":\"3000\",\"x\":[0.025,0.075,0.125,0.175,0.225,0.275,0.325,0.375,0.425,0.475,0.525,0.575,0.625,0.675,0.725,0.775,0.825,0.875,0.925,0.975],\"y\":[1.61422,1.51696,1.44693,1.39696,1.40023,1.39966,1.30955,1.25581,1.25772,1.18413,1.08057,1.1241,1.19439,1.22271,1.3106,1.34452,1.3859,1.36636,1.46776,1.54451],\"type\":\"scatter\"},{\"mode\":\"lines\",\"name\":\"4000\",\"x\":[0.025,0.075,0.125,0.175,0.225,0.275,0.325,0.375,0.425,0.475,0.525,0.575,0.625,0.675,0.725,0.775,0.825,0.875,0.925,0.975],\"y\":[1.61974,1.5732,1.5049,1.4463,1.40742,1.37713,1.30034,1.25511,1.20596,1.14252,1.06106,1.12477,1.18922,1.22625,1.27138,1.3577,1.39897,1.40184,1.48166,1.5652],\"type\":\"scatter\"},{\"mode\":\"lines\",\"name\":\"5000\",\"x\":[0.025,0.075,0.125,0.175,0.225,0.275,0.325,0.375,0.425,0.475,0.525,0.575,0.625,0.675,0.725,0.775,0.825,0.875,0.925,0.975],\"y\":[1.63109,1.60047,1.50609,1.48229,1.39706,1.3704,1.29496,1.25157,1.19245,1.12072,1.04331,1.10467,1.14544,1.21752,1.26318,1.3392,1.40046,1.40445,1.52199,1.59272],\"type\":\"scatter\"},{\"mode\":\"lines\",\"name\":\"6000\",\"x\":[0.025,0.075,0.125,0.175,0.225,0.275,0.325,0.375,0.425,0.475,0.525,0.575,0.625,0.675,0.725,0.775,0.825,0.875,0.925,0.975],\"y\":[1.63774,1.56012,1.46609,1.37017,1.38245,1.3304,1.27336,1.20323,1.14453,1.10757,1.06847,1.09119,1.17507,1.2232,1.28234,1.36229,1.37899,1.44902,1.52132,1.55657],\"type\":\"scatter\"},{\"mode\":\"lines\",\"name\":\"7000\",\"x\":[0.025,0.075,0.125,0.175,0.225,0.275,0.325,0.375,0.425,0.475,0.525,0.575,0.625,0.675,0.725,0.775,0.825,0.875,0.925,0.975],\"y\":[1.6354,1.55678,1.50959,1.44395,1.38532,1.35989,1.25667,1.19198,1.152,1.12813,1.04716,1.07442,1.14114,1.2113,1.24076,1.29606,1.37076,1.47467,1.50094,1.5606],\"type\":\"scatter\"},{\"mode\":\"lines\",\"name\":\"8000\",\"x\":[0.025,0.075,0.125,0.175,0.225,0.275,0.325,0.375,0.425,0.475,0.525,0.575,0.625,0.675,0.725,0.775,0.825,0.875,0.925,0.975],\"y\":[1.57454,1.5255,1.46835,1.39199,1.35635,1.32266,1.24817,1.20335,1.13875,1.10183,1.05923,1.12049,1.18385,1.19078,1.23784,1.27438,1.35739,1.45752,1.49761,1.5618],\"type\":\"scatter\"},{\"mode\":\"lines\",\"name\":\"9000\",\"x\":[0.025,0.075,0.125,0.175,0.225,0.275,0.325,0.375,0.425,0.475,0.525,0.575,0.625,0.675,0.725,0.775,0.825,0.875,0.925,0.975],\"y\":[1.62924,1.54757,1.50395,1.40906,1.40066,1.34152,1.25276,1.21961,1.13849,1.09065,1.077,1.08828,1.17682,1.21135,1.24594,1.2837,1.34054,1.4434,1.4786,1.5715],\"type\":\"scatter\"},{\"mode\":\"lines\",\"name\":\"10000\",\"x\":[0.025,0.075,0.125,0.175,0.225,0.275,0.325,0.375,0.425,0.475,0.525,0.575,0.625,0.675,0.725,0.775,0.825,0.875,0.925,0.975],\"y\":[1.62082,1.51725,1.48089,1.38431,1.31641,1.26398,1.26174,1.2146,1.15888,1.11085,1.04251,1.12652,1.17039,1.19952,1.22953,1.29077,1.35367,1.4245,1.49216,1.57463],\"type\":\"scatter\"},{\"mode\":\"lines\",\"name\":\"11000\",\"x\":[0.025,0.075,0.125,0.175,0.225,0.275,0.325,0.375,0.425,0.475,0.525,0.575,0.625,0.675,0.725,0.775,0.825,0.875,0.925,0.975],\"y\":[1.60426,1.54214,1.51102,1.43764,1.35591,1.30757,1.25538,1.21778,1.1592,1.09696,1.04745,1.09174,1.14261,1.22662,1.26237,1.30757,1.32895,1.37792,1.50088,1.53872],\"type\":\"scatter\"},{\"mode\":\"lines\",\"name\":\"12000\",\"x\":[0.025,0.075,0.125,0.175,0.225,0.275,0.325,0.375,0.425,0.475,0.525,0.575,0.625,0.675,0.725,0.775,0.825,0.875,0.925,0.975],\"y\":[1.65274,1.53133,1.49371,1.42707,1.32973,1.31363,1.23021,1.20478,1.15139,1.09224,1.04629,1.07785,1.14501,1.22425,1.24643,1.2943,1.3236,1.44507,1.50785,1.61186],\"type\":\"scatter\"},{\"mode\":\"lines\",\"name\":\"13000\",\"x\":[0.025,0.075,0.125,0.175,0.225,0.275,0.325,0.375,0.425,0.475,0.525,0.575,0.625,0.675,0.725,0.775,0.825,0.875,0.925,0.975],\"y\":[1.65506,1.51077,1.46202,1.38711,1.34279,1.29519,1.23789,1.18597,1.14867,1.07337,1.05002,1.10376,1.1411,1.20161,1.24346,1.33824,1.35787,1.40978,1.49762,1.57146],\"type\":\"scatter\"},{\"mode\":\"lines\",\"name\":\"14000\",\"x\":[0.025,0.075,0.125,0.175,0.225,0.275,0.325,0.375,0.425,0.475,0.525,0.575,0.625,0.675,0.725,0.775,0.825,0.875,0.925,0.975],\"y\":[1.63939,1.52403,1.4788,1.41438,1.39817,1.32091,1.26245,1.19327,1.14003,1.1023,1.06771,1.08777,1.13638,1.17512,1.23388,1.28745,1.33005,1.42697,1.48003,1.58614],\"type\":\"scatter\"},{\"mode\":\"lines\",\"name\":\"15000\",\"x\":[0.025,0.075,0.125,0.175,0.225,0.275,0.325,0.375,0.425,0.475,0.525,0.575,0.625,0.675,0.725,0.775,0.825,0.875,0.925,0.975],\"y\":[1.59622,1.55472,1.50555,1.42599,1.37336,1.30545,1.24417,1.19875,1.14294,1.09698,1.0579,1.08915,1.14734,1.19634,1.23767,1.30925,1.33805,1.3964,1.47746,1.50944],\"type\":\"scatter\"},{\"mode\":\"lines\",\"name\":\"16000\",\"x\":[0.025,0.075,0.125,0.175,0.225,0.275,0.325,0.375,0.425,0.475,0.525,0.575,0.625,0.675,0.725,0.775,0.825,0.875,0.925,0.975],\"y\":[1.63174,1.58799,1.54748,1.44893,1.35911,1.32027,1.2406,1.16821,1.14534,1.09828,1.0607,1.10001,1.14823,1.19092,1.23052,1.29131,1.33234,1.37869,1.41472,1.51708],\"type\":\"scatter\"},{\"mode\":\"lines\",\"name\":\"17000\",\"x\":[0.025,0.075,0.125,0.175,0.225,0.275,0.325,0.375,0.425,0.475,0.525,0.575,0.625,0.675,0.725,0.775,0.825,0.875,0.925,0.975],\"y\":[1.62753,1.56158,1.55596,1.42744,1.34957,1.27973,1.24442,1.19543,1.17235,1.09719,1.06394,1.11117,1.14511,1.20933,1.2605,1.31151,1.35393,1.38386,1.48034,1.50796],\"type\":\"scatter\"},{\"mode\":\"lines\",\"name\":\"18000\",\"x\":[0.025,0.075,0.125,0.175,0.225,0.275,0.325,0.375,0.425,0.475,0.525,0.575,0.625,0.675,0.725,0.775,0.825,0.875,0.925,0.975],\"y\":[1.60297,1.60531,1.49963,1.42657,1.36199,1.31215,1.22608,1.17945,1.13694,1.12522,1.08351,1.09058,1.14562,1.20142,1.26903,1.32607,1.35449,1.39705,1.47155,1.5594],\"type\":\"scatter\"},{\"mode\":\"lines\",\"name\":\"19000\",\"x\":[0.025,0.075,0.125,0.175,0.225,0.275,0.325,0.375,0.425,0.475,0.525,0.575,0.625,0.675,0.725,0.775,0.825,0.875,0.925,0.975],\"y\":[1.61043,1.52067,1.52677,1.42028,1.3982,1.3285,1.27344,1.19475,1.16179,1.11514,1.08216,1.10084,1.13139,1.2073,1.26329,1.28523,1.33187,1.38082,1.44586,1.5538],\"type\":\"scatter\"},{\"mode\":\"lines\",\"name\":\"20000\",\"x\":[0.025,0.075,0.125,0.175,0.225,0.275,0.325,0.375,0.425,0.475,0.525,0.575,0.625,0.675,0.725,0.775,0.825,0.875,0.925,0.975],\"y\":[1.65868,1.50704,1.46324,1.39581,1.34038,1.29211,1.29356,1.20245,1.12765,1.09625,1.07539,1.07534,1.12587,1.18493,1.25343,1.33493,1.34801,1.40373,1.47997,1.54325],\"type\":\"scatter\"},{\"mode\":\"lines\",\"name\":\"21000\",\"x\":[0.025,0.075,0.125,0.175,0.225,0.275,0.325,0.375,0.425,0.475,0.525,0.575,0.625,0.675,0.725,0.775,0.825,0.875,0.925,0.975],\"y\":[1.63103,1.59019,1.48197,1.44116,1.32817,1.28037,1.24823,1.24182,1.15419,1.08918,1.05038,1.10771,1.13809,1.17281,1.24631,1.29549,1.3594,1.41384,1.44201,1.56324],\"type\":\"scatter\"},{\"mode\":\"lines\",\"name\":\"22000\",\"x\":[0.025,0.075,0.125,0.175,0.225,0.275,0.325,0.375,0.425,0.475,0.525,0.575,0.625,0.675,0.725,0.775,0.825,0.875,0.925,0.975],\"y\":[1.67303,1.55507,1.45551,1.42785,1.36296,1.29236,1.25401,1.21999,1.16386,1.08462,1.05362,1.12031,1.14958,1.17879,1.21576,1.26248,1.32512,1.37286,1.46399,1.59371],\"type\":\"scatter\"},{\"mode\":\"lines\",\"name\":\"23000\",\"x\":[0.025,0.075,0.125,0.175,0.225,0.275,0.325,0.375,0.425,0.475,0.525,0.575,0.625,0.675,0.725,0.775,0.825,0.875,0.925,0.975],\"y\":[1.61369,1.51434,1.45349,1.36698,1.31734,1.26092,1.24335,1.1767,1.13011,1.08642,1.04914,1.08304,1.14249,1.20171,1.27468,1.2642,1.32005,1.38702,1.47254,1.54152],\"type\":\"scatter\"},{\"mode\":\"lines\",\"name\":\"24000\",\"x\":[0.025,0.075,0.125,0.175,0.225,0.275,0.325,0.375,0.425,0.475,0.525,0.575,0.625,0.675,0.725,0.775,0.825,0.875,0.925,0.975],\"y\":[1.61338,1.49377,1.42712,1.38475,1.3222,1.31034,1.25754,1.19735,1.14815,1.114,1.06646,1.09773,1.13922,1.1889,1.22037,1.26332,1.34184,1.38343,1.42512,1.46754],\"type\":\"scatter\"},{\"mode\":\"lines\",\"name\":\"25000\",\"x\":[0.025,0.075,0.125,0.175,0.225,0.275,0.325,0.375,0.425,0.475,0.525,0.575,0.625,0.675,0.725,0.775,0.825,0.875,0.925,0.975],\"y\":[1.5899,1.4908,1.46915,1.35051,1.294,1.30556,1.26987,1.19503,1.14264,1.07905,1.06266,1.07666,1.1156,1.20649,1.22392,1.27292,1.31373,1.38835,1.45042,1.48688],\"type\":\"scatter\"},{\"mode\":\"lines\",\"name\":\"26000\",\"x\":[0.025,0.075,0.125,0.175,0.225,0.275,0.325,0.375,0.425,0.475,0.525,0.575,0.625,0.675,0.725,0.775,0.825,0.875,0.925,0.975],\"y\":[1.58118,1.51327,1.45997,1.42462,1.38217,1.30925,1.25724,1.20663,1.16758,1.11142,1.06452,1.09853,1.14159,1.17849,1.21174,1.27455,1.30809,1.4062,1.44659,1.50007],\"type\":\"scatter\"},{\"mode\":\"lines\",\"name\":\"27000\",\"x\":[0.025,0.075,0.125,0.175,0.225,0.275,0.325,0.375,0.425,0.475,0.525,0.575,0.625,0.675,0.725,0.775,0.825,0.875,0.925,0.975],\"y\":[1.58515,1.55272,1.46825,1.38961,1.34971,1.27014,1.21589,1.19177,1.17824,1.11123,1.04886,1.08934,1.12103,1.19536,1.27165,1.29005,1.35432,1.41453,1.42538,1.47035],\"type\":\"scatter\"},{\"mode\":\"lines\",\"name\":\"28000\",\"x\":[0.025,0.075,0.125,0.175,0.225,0.275,0.325,0.375,0.425,0.475,0.525,0.575,0.625,0.675,0.725,0.775,0.825,0.875,0.925,0.975],\"y\":[1.60653,1.54982,1.49512,1.40791,1.35723,1.30396,1.21281,1.20767,1.17953,1.10993,1.05928,1.07778,1.12943,1.18925,1.23699,1.32524,1.32437,1.37099,1.45924,1.49242],\"type\":\"scatter\"},{\"mode\":\"lines\",\"name\":\"29000\",\"x\":[0.025,0.075,0.125,0.175,0.225,0.275,0.325,0.375,0.425,0.475,0.525,0.575,0.625,0.675,0.725,0.775,0.825,0.875,0.925,0.975],\"y\":[1.60841,1.52725,1.45765,1.38289,1.36436,1.32634,1.23632,1.21663,1.17793,1.09123,1.04905,1.06371,1.14574,1.17858,1.24375,1.28861,1.36069,1.42603,1.48086,1.54394],\"type\":\"scatter\"},{\"mode\":\"lines\",\"name\":\"30000\",\"x\":[0.025,0.075,0.125,0.175,0.225,0.275,0.325,0.375,0.425,0.475,0.525,0.575,0.625,0.675,0.725,0.775,0.825,0.875,0.925,0.975],\"y\":[1.63507,1.53514,1.45834,1.40489,1.37749,1.33015,1.25,1.19313,1.15235,1.07477,1.03273,1.09973,1.14833,1.16757,1.22106,1.27889,1.32964,1.38053,1.43718,1.56072],\"type\":\"scatter\"}],                        {\"template\":{\"data\":{\"histogram2dcontour\":[{\"type\":\"histogram2dcontour\",\"colorbar\":{\"outlinewidth\":0,\"ticks\":\"\"},\"colorscale\":[[0.0,\"#0d0887\"],[0.1111111111111111,\"#46039f\"],[0.2222222222222222,\"#7201a8\"],[0.3333333333333333,\"#9c179e\"],[0.4444444444444444,\"#bd3786\"],[0.5555555555555556,\"#d8576b\"],[0.6666666666666666,\"#ed7953\"],[0.7777777777777778,\"#fb9f3a\"],[0.8888888888888888,\"#fdca26\"],[1.0,\"#f0f921\"]]}],\"choropleth\":[{\"type\":\"choropleth\",\"colorbar\":{\"outlinewidth\":0,\"ticks\":\"\"}}],\"histogram2d\":[{\"type\":\"histogram2d\",\"colorbar\":{\"outlinewidth\":0,\"ticks\":\"\"},\"colorscale\":[[0.0,\"#0d0887\"],[0.1111111111111111,\"#46039f\"],[0.2222222222222222,\"#7201a8\"],[0.3333333333333333,\"#9c179e\"],[0.4444444444444444,\"#bd3786\"],[0.5555555555555556,\"#d8576b\"],[0.6666666666666666,\"#ed7953\"],[0.7777777777777778,\"#fb9f3a\"],[0.8888888888888888,\"#fdca26\"],[1.0,\"#f0f921\"]]}],\"heatmap\":[{\"type\":\"heatmap\",\"colorbar\":{\"outlinewidth\":0,\"ticks\":\"\"},\"colorscale\":[[0.0,\"#0d0887\"],[0.1111111111111111,\"#46039f\"],[0.2222222222222222,\"#7201a8\"],[0.3333333333333333,\"#9c179e\"],[0.4444444444444444,\"#bd3786\"],[0.5555555555555556,\"#d8576b\"],[0.6666666666666666,\"#ed7953\"],[0.7777777777777778,\"#fb9f3a\"],[0.8888888888888888,\"#fdca26\"],[1.0,\"#f0f921\"]]}],\"heatmapgl\":[{\"type\":\"heatmapgl\",\"colorbar\":{\"outlinewidth\":0,\"ticks\":\"\"},\"colorscale\":[[0.0,\"#0d0887\"],[0.1111111111111111,\"#46039f\"],[0.2222222222222222,\"#7201a8\"],[0.3333333333333333,\"#9c179e\"],[0.4444444444444444,\"#bd3786\"],[0.5555555555555556,\"#d8576b\"],[0.6666666666666666,\"#ed7953\"],[0.7777777777777778,\"#fb9f3a\"],[0.8888888888888888,\"#fdca26\"],[1.0,\"#f0f921\"]]}],\"contourcarpet\":[{\"type\":\"contourcarpet\",\"colorbar\":{\"outlinewidth\":0,\"ticks\":\"\"}}],\"contour\":[{\"type\":\"contour\",\"colorbar\":{\"outlinewidth\":0,\"ticks\":\"\"},\"colorscale\":[[0.0,\"#0d0887\"],[0.1111111111111111,\"#46039f\"],[0.2222222222222222,\"#7201a8\"],[0.3333333333333333,\"#9c179e\"],[0.4444444444444444,\"#bd3786\"],[0.5555555555555556,\"#d8576b\"],[0.6666666666666666,\"#ed7953\"],[0.7777777777777778,\"#fb9f3a\"],[0.8888888888888888,\"#fdca26\"],[1.0,\"#f0f921\"]]}],\"surface\":[{\"type\":\"surface\",\"colorbar\":{\"outlinewidth\":0,\"ticks\":\"\"},\"colorscale\":[[0.0,\"#0d0887\"],[0.1111111111111111,\"#46039f\"],[0.2222222222222222,\"#7201a8\"],[0.3333333333333333,\"#9c179e\"],[0.4444444444444444,\"#bd3786\"],[0.5555555555555556,\"#d8576b\"],[0.6666666666666666,\"#ed7953\"],[0.7777777777777778,\"#fb9f3a\"],[0.8888888888888888,\"#fdca26\"],[1.0,\"#f0f921\"]]}],\"mesh3d\":[{\"type\":\"mesh3d\",\"colorbar\":{\"outlinewidth\":0,\"ticks\":\"\"}}],\"scatter\":[{\"fillpattern\":{\"fillmode\":\"overlay\",\"size\":10,\"solidity\":0.2},\"type\":\"scatter\"}],\"parcoords\":[{\"type\":\"parcoords\",\"line\":{\"colorbar\":{\"outlinewidth\":0,\"ticks\":\"\"}}}],\"scatterpolargl\":[{\"type\":\"scatterpolargl\",\"marker\":{\"colorbar\":{\"outlinewidth\":0,\"ticks\":\"\"}}}],\"bar\":[{\"error_x\":{\"color\":\"#2a3f5f\"},\"error_y\":{\"color\":\"#2a3f5f\"},\"marker\":{\"line\":{\"color\":\"#E5ECF6\",\"width\":0.5},\"pattern\":{\"fillmode\":\"overlay\",\"size\":10,\"solidity\":0.2}},\"type\":\"bar\"}],\"scattergeo\":[{\"type\":\"scattergeo\",\"marker\":{\"colorbar\":{\"outlinewidth\":0,\"ticks\":\"\"}}}],\"scatterpolar\":[{\"type\":\"scatterpolar\",\"marker\":{\"colorbar\":{\"outlinewidth\":0,\"ticks\":\"\"}}}],\"histogram\":[{\"marker\":{\"pattern\":{\"fillmode\":\"overlay\",\"size\":10,\"solidity\":0.2}},\"type\":\"histogram\"}],\"scattergl\":[{\"type\":\"scattergl\",\"marker\":{\"colorbar\":{\"outlinewidth\":0,\"ticks\":\"\"}}}],\"scatter3d\":[{\"type\":\"scatter3d\",\"line\":{\"colorbar\":{\"outlinewidth\":0,\"ticks\":\"\"}},\"marker\":{\"colorbar\":{\"outlinewidth\":0,\"ticks\":\"\"}}}],\"scattermapbox\":[{\"type\":\"scattermapbox\",\"marker\":{\"colorbar\":{\"outlinewidth\":0,\"ticks\":\"\"}}}],\"scatterternary\":[{\"type\":\"scatterternary\",\"marker\":{\"colorbar\":{\"outlinewidth\":0,\"ticks\":\"\"}}}],\"scattercarpet\":[{\"type\":\"scattercarpet\",\"marker\":{\"colorbar\":{\"outlinewidth\":0,\"ticks\":\"\"}}}],\"carpet\":[{\"aaxis\":{\"endlinecolor\":\"#2a3f5f\",\"gridcolor\":\"white\",\"linecolor\":\"white\",\"minorgridcolor\":\"white\",\"startlinecolor\":\"#2a3f5f\"},\"baxis\":{\"endlinecolor\":\"#2a3f5f\",\"gridcolor\":\"white\",\"linecolor\":\"white\",\"minorgridcolor\":\"white\",\"startlinecolor\":\"#2a3f5f\"},\"type\":\"carpet\"}],\"table\":[{\"cells\":{\"fill\":{\"color\":\"#EBF0F8\"},\"line\":{\"color\":\"white\"}},\"header\":{\"fill\":{\"color\":\"#C8D4E3\"},\"line\":{\"color\":\"white\"}},\"type\":\"table\"}],\"barpolar\":[{\"marker\":{\"line\":{\"color\":\"#E5ECF6\",\"width\":0.5},\"pattern\":{\"fillmode\":\"overlay\",\"size\":10,\"solidity\":0.2}},\"type\":\"barpolar\"}],\"pie\":[{\"automargin\":true,\"type\":\"pie\"}]},\"layout\":{\"autotypenumbers\":\"strict\",\"colorway\":[\"#636efa\",\"#EF553B\",\"#00cc96\",\"#ab63fa\",\"#FFA15A\",\"#19d3f3\",\"#FF6692\",\"#B6E880\",\"#FF97FF\",\"#FECB52\"],\"font\":{\"color\":\"#2a3f5f\"},\"hovermode\":\"closest\",\"hoverlabel\":{\"align\":\"left\"},\"paper_bgcolor\":\"white\",\"plot_bgcolor\":\"#E5ECF6\",\"polar\":{\"bgcolor\":\"#E5ECF6\",\"angularaxis\":{\"gridcolor\":\"white\",\"linecolor\":\"white\",\"ticks\":\"\"},\"radialaxis\":{\"gridcolor\":\"white\",\"linecolor\":\"white\",\"ticks\":\"\"}},\"ternary\":{\"bgcolor\":\"#E5ECF6\",\"aaxis\":{\"gridcolor\":\"white\",\"linecolor\":\"white\",\"ticks\":\"\"},\"baxis\":{\"gridcolor\":\"white\",\"linecolor\":\"white\",\"ticks\":\"\"},\"caxis\":{\"gridcolor\":\"white\",\"linecolor\":\"white\",\"ticks\":\"\"}},\"coloraxis\":{\"colorbar\":{\"outlinewidth\":0,\"ticks\":\"\"}},\"colorscale\":{\"sequential\":[[0.0,\"#0d0887\"],[0.1111111111111111,\"#46039f\"],[0.2222222222222222,\"#7201a8\"],[0.3333333333333333,\"#9c179e\"],[0.4444444444444444,\"#bd3786\"],[0.5555555555555556,\"#d8576b\"],[0.6666666666666666,\"#ed7953\"],[0.7777777777777778,\"#fb9f3a\"],[0.8888888888888888,\"#fdca26\"],[1.0,\"#f0f921\"]],\"sequentialminus\":[[0.0,\"#0d0887\"],[0.1111111111111111,\"#46039f\"],[0.2222222222222222,\"#7201a8\"],[0.3333333333333333,\"#9c179e\"],[0.4444444444444444,\"#bd3786\"],[0.5555555555555556,\"#d8576b\"],[0.6666666666666666,\"#ed7953\"],[0.7777777777777778,\"#fb9f3a\"],[0.8888888888888888,\"#fdca26\"],[1.0,\"#f0f921\"]],\"diverging\":[[0,\"#8e0152\"],[0.1,\"#c51b7d\"],[0.2,\"#de77ae\"],[0.3,\"#f1b6da\"],[0.4,\"#fde0ef\"],[0.5,\"#f7f7f7\"],[0.6,\"#e6f5d0\"],[0.7,\"#b8e186\"],[0.8,\"#7fbc41\"],[0.9,\"#4d9221\"],[1,\"#276419\"]]},\"xaxis\":{\"gridcolor\":\"white\",\"linecolor\":\"white\",\"ticks\":\"\",\"title\":{\"standoff\":15},\"zerolinecolor\":\"white\",\"automargin\":true,\"zerolinewidth\":2},\"yaxis\":{\"gridcolor\":\"white\",\"linecolor\":\"white\",\"ticks\":\"\",\"title\":{\"standoff\":15},\"zerolinecolor\":\"white\",\"automargin\":true,\"zerolinewidth\":2},\"scene\":{\"xaxis\":{\"backgroundcolor\":\"#E5ECF6\",\"gridcolor\":\"white\",\"linecolor\":\"white\",\"showbackground\":true,\"ticks\":\"\",\"zerolinecolor\":\"white\",\"gridwidth\":2},\"yaxis\":{\"backgroundcolor\":\"#E5ECF6\",\"gridcolor\":\"white\",\"linecolor\":\"white\",\"showbackground\":true,\"ticks\":\"\",\"zerolinecolor\":\"white\",\"gridwidth\":2},\"zaxis\":{\"backgroundcolor\":\"#E5ECF6\",\"gridcolor\":\"white\",\"linecolor\":\"white\",\"showbackground\":true,\"ticks\":\"\",\"zerolinecolor\":\"white\",\"gridwidth\":2}},\"shapedefaults\":{\"line\":{\"color\":\"#2a3f5f\"}},\"annotationdefaults\":{\"arrowcolor\":\"#2a3f5f\",\"arrowhead\":0,\"arrowwidth\":1},\"geo\":{\"bgcolor\":\"white\",\"landcolor\":\"#E5ECF6\",\"subunitcolor\":\"white\",\"showland\":true,\"showlakes\":true,\"lakecolor\":\"white\"},\"title\":{\"x\":0.05},\"mapbox\":{\"style\":\"light\"}}},\"xaxis\":{\"showgrid\":false,\"showline\":true,\"linewidth\":1,\"linecolor\":\"black\",\"mirror\":true,\"title\":{\"font\":{\"size\":18},\"text\":\"z\"},\"tickfont\":{\"size\":14},\"range\":[0,1],\"dtick\":0.1},\"yaxis\":{\"showgrid\":false,\"showline\":true,\"linewidth\":1,\"linecolor\":\"black\",\"mirror\":true,\"title\":{\"font\":{\"size\":18},\"text\":\"Temperature\"},\"tickfont\":{\"size\":14},\"range\":[1,1.7],\"dtick\":0.1},\"width\":900,\"height\":600,\"plot_bgcolor\":\"white\",\"shapes\":[{\"line\":{\"color\":\"red\",\"width\":1},\"type\":\"line\",\"x0\":0,\"x1\":0,\"y0\":0,\"y1\":2},{\"line\":{\"color\":\"red\",\"width\":1},\"type\":\"line\",\"x0\":0.05,\"x1\":0.05,\"y0\":0,\"y1\":2},{\"line\":{\"color\":\"blue\",\"width\":1},\"type\":\"line\",\"x0\":0.5,\"x1\":0.5,\"y0\":0,\"y1\":2},{\"line\":{\"color\":\"blue\",\"width\":1},\"type\":\"line\",\"x0\":0.55,\"x1\":0.55,\"y0\":0,\"y1\":2}]},                        {\"responsive\": true}                    ).then(function(){\n",
       "                            \n",
       "var gd = document.getElementById('eca3ae5a-3ff7-48f4-be6b-0007cded5e1a');\n",
       "var x = new MutationObserver(function (mutations, observer) {{\n",
       "        var display = window.getComputedStyle(gd).display;\n",
       "        if (!display || display === 'none') {{\n",
       "            console.log([gd, 'removed!']);\n",
       "            Plotly.purge(gd);\n",
       "            observer.disconnect();\n",
       "        }}\n",
       "}});\n",
       "\n",
       "// Listen for the removal of the full notebook cells\n",
       "var notebookContainer = gd.closest('#notebook-container');\n",
       "if (notebookContainer) {{\n",
       "    x.observe(notebookContainer, {childList: true});\n",
       "}}\n",
       "\n",
       "// Listen for the clearing of the current output cell\n",
       "var outputEl = gd.closest('.output');\n",
       "if (outputEl) {{\n",
       "    x.observe(outputEl, {childList: true});\n",
       "}}\n",
       "\n",
       "                        })                };                });            </script>        </div>"
      ]
     },
     "metadata": {},
     "output_type": "display_data"
    }
   ],
   "source": [
    "import plotly.graph_objects as go\n",
    "\n",
    "fig = go.Figure()\n",
    "for i in range(len(coord1_list)):\n",
    "    fig.add_trace(go.Scatter(x=coord1_list[i][0], y=v_temp_list[i][0], mode='lines', name=timestep[i]))\n",
    "\n",
    "# Formatting\n",
    "fig.update_xaxes(showgrid=False)\n",
    "fig.update_yaxes(showgrid=False)\n",
    "fig.update_layout(width=900, height=600)\n",
    "\n",
    "fig.update_layout(plot_bgcolor='white')\n",
    "\n",
    "fig.update_xaxes(showline=True, linewidth=1, linecolor='black', mirror=True)\n",
    "fig.update_yaxes(showline=True, linewidth=1, linecolor='black', mirror=True)\n",
    "\n",
    "fig.update_xaxes(title_text='z', title_font=dict(size=18))\n",
    "fig.update_xaxes(tickfont=dict(size=14))\n",
    "fig.update_yaxes(title_text='Temperature', title_font=dict(size=18))\n",
    "fig.update_yaxes(tickfont=dict(size=14))\n",
    "\n",
    "fig.update_xaxes(range=[0, 1], dtick=0.1)\n",
    "fig.update_yaxes(range=[1, 1.7], dtick=0.1)\n",
    "\n",
    "fig.add_shape(type='line', x0=0, y0=0, x1=0, y1=2, line=dict(color='red', width=1))\n",
    "fig.add_shape(type='line', x0=0.05, y0=0, x1=0.05, y1=2, line=dict(color='red', width=1))\n",
    "fig.add_shape(type='line', x0=0.5, y0=0, x1=0.5, y1=2, line=dict(color='blue', width=1))\n",
    "fig.add_shape(type='line', x0=0.55, y0=0, x1=0.55, y1=2, line=dict(color='blue', width=1))\n",
    "fig.show()\n"
   ]
  }
 ],
 "metadata": {
  "kernelspec": {
   "display_name": "Python 3",
   "language": "python",
   "name": "python3"
  },
  "language_info": {
   "codemirror_mode": {
    "name": "ipython",
    "version": 3
   },
   "file_extension": ".py",
   "mimetype": "text/x-python",
   "name": "python",
   "nbconvert_exporter": "python",
   "pygments_lexer": "ipython3",
   "version": "3.10.12"
  }
 },
 "nbformat": 4,
 "nbformat_minor": 2
}
